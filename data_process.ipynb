{
 "cells": [
  {
   "cell_type": "code",
   "execution_count": 1,
   "id": "1cac3589",
   "metadata": {},
   "outputs": [],
   "source": [
    "import numpy as np\n",
    "from matplotlib import pyplot as plt\n",
    "import pandas as pd\n",
    "\n",
    "from sklearn.experimental import enable_iterative_imputer\n",
    "from sklearn.impute import IterativeImputer\n",
    "from sklearn.ensemble import ExtraTreesRegressor\n",
    "\n"
   ]
  },
  {
   "cell_type": "code",
   "execution_count": 2,
   "id": "ae52a9fd",
   "metadata": {},
   "outputs": [],
   "source": [
    "df = pd.read_csv('./data/raw_data_cleaned.csv')"
   ]
  },
  {
   "cell_type": "code",
   "execution_count": 3,
   "id": "3b8e7342",
   "metadata": {},
   "outputs": [],
   "source": [
    "df = df.rename(columns={'Unnamed: 0': 'Food Name'})"
   ]
  },
  {
   "cell_type": "code",
   "execution_count": 4,
   "id": "6c7d8ce2",
   "metadata": {},
   "outputs": [
    {
     "data": {
      "text/plain": [
       "Index(['Food Name', 'Water (g)', 'Energy (kal)', 'Protein (g)', 'lipid (g)',\n",
       "       'Carbohydrate (g)', 'Fiber (g)', 'Sugars (g)', 'Ash (g)', 'Ca (mg)',\n",
       "       'Fe (mg)', 'Mg (mg)', 'P (mg)', 'K (mg)', 'Na (mg)', 'Zn (mg)',\n",
       "       'Se (µg)', 'Cu (mg)', 'Mn (mg)', 'I (µg)', 'Vc (mg)', 'Thiamin (mg)',\n",
       "       'Riboflavin (mg)', 'Niacin (mg)', 'B6 (mg)', 'Folate,DFE (µg)',\n",
       "       'B12 (µg)', 'Va,RAE (µg)', 'Ve (mg)', 'Vd (IU)', 'Vk (µg)',\n",
       "       'saturated (g)', 'monounsaturated (g)', 'polyunsaturated (g)',\n",
       "       'trans (g)', 'Cholesterol (mg)', 'Caffeine (mg)', 'phenolics (mg)',\n",
       "       'pH', 'Plain Occurences', 'Cool Occurences', 'Warm Occurences',\n",
       "       'Cold Occurences', 'Heavy Cold Occurences', 'Heavy Warm Occurences',\n",
       "       'Hot Occurences', 'Heavy Hot Occurences'],\n",
       "      dtype='object')"
      ]
     },
     "execution_count": 4,
     "metadata": {},
     "output_type": "execute_result"
    }
   ],
   "source": [
    "df.columns"
   ]
  },
  {
   "cell_type": "code",
   "execution_count": 5,
   "id": "9887c5a1",
   "metadata": {},
   "outputs": [
    {
     "name": "stdout",
     "output_type": "stream",
     "text": [
      "0    140\n",
      "1     41\n",
      "2     37\n",
      "3     23\n",
      "Name: Plain Occurences, dtype: int64\n",
      "0    170\n",
      "1     43\n",
      "2     28\n",
      "Name: Cool Occurences, dtype: int64\n",
      "0    142\n",
      "1     62\n",
      "2     37\n",
      "Name: Warm Occurences, dtype: int64\n",
      "0    166\n",
      "1     58\n",
      "2     17\n",
      "Name: Cold Occurences, dtype: int64\n",
      "0    225\n",
      "1     16\n",
      "Name: Heavy Cold Occurences, dtype: int64\n",
      "0    236\n",
      "1      5\n",
      "Name: Heavy Warm Occurences, dtype: int64\n",
      "0    230\n",
      "1     11\n",
      "Name: Hot Occurences, dtype: int64\n",
      "0    235\n",
      "1      6\n",
      "Name: Heavy Hot Occurences, dtype: int64\n"
     ]
    }
   ],
   "source": [
    "for col in ['Plain Occurences', 'Cool Occurences', 'Warm Occurences',\n",
    "       'Cold Occurences', 'Heavy Cold Occurences', 'Heavy Warm Occurences',\n",
    "       'Hot Occurences', 'Heavy Hot Occurences']:\n",
    "    print(df[col].value_counts().sort_values(ascending=False))"
   ]
  },
  {
   "cell_type": "code",
   "execution_count": 6,
   "id": "5f1835ed",
   "metadata": {},
   "outputs": [],
   "source": [
    "#df.isnull().sum().sort_values(ascending=False)"
   ]
  },
  {
   "cell_type": "code",
   "execution_count": 7,
   "id": "09ac4576",
   "metadata": {},
   "outputs": [],
   "source": [
    "#df.describe()"
   ]
  },
  {
   "cell_type": "code",
   "execution_count": 8,
   "id": "f54ab7c6",
   "metadata": {},
   "outputs": [],
   "source": [
    "#df.info()"
   ]
  },
  {
   "cell_type": "markdown",
   "id": "1cbb66fa",
   "metadata": {},
   "source": [
    "## Data Process"
   ]
  },
  {
   "cell_type": "markdown",
   "id": "c21d54c1",
   "metadata": {},
   "source": [
    "### Normalization"
   ]
  },
  {
   "cell_type": "code",
   "execution_count": 9,
   "id": "6b960268",
   "metadata": {},
   "outputs": [],
   "source": [
    "def occurrences(df):\n",
    "    df[\"% Plain\"] = df[\"Plain Occurences\"]/(df[\"Plain Occurences\"] + df[\"Cool Occurences\"] + df[\"Warm Occurences\"] + df[\"Cold Occurences\"] + df[\"Heavy Cold Occurences\"] + df[\"Heavy Warm Occurences\"] + df[\"Hot Occurences\"] + df[\"Heavy Hot Occurences\"])\n",
    "\n",
    "    df[\"% Cool\"] = df[\"Cool Occurences\"]/(df[\"Plain Occurences\"] + df[\"Cool Occurences\"] + df[\"Warm Occurences\"] + df[\"Cold Occurences\"] + df[\"Heavy Cold Occurences\"] + df[\"Heavy Warm Occurences\"] + df[\"Hot Occurences\"] + df[\"Heavy Hot Occurences\"])\n",
    "\n",
    "    df[\"% Warm\"] = df[\"Warm Occurences\"]/(df[\"Plain Occurences\"] + df[\"Cool Occurences\"] + df[\"Warm Occurences\"] + df[\"Cold Occurences\"] + df[\"Heavy Cold Occurences\"] + df[\"Heavy Warm Occurences\"] + df[\"Hot Occurences\"] + df[\"Heavy Hot Occurences\"])\n",
    "\n",
    "    df[\"% Cold\"] = df[\"Cold Occurences\"]/(df[\"Plain Occurences\"] + df[\"Cool Occurences\"] + df[\"Warm Occurences\"] + df[\"Cold Occurences\"] + df[\"Heavy Cold Occurences\"] + df[\"Heavy Warm Occurences\"] + df[\"Hot Occurences\"] + df[\"Heavy Hot Occurences\"])\n",
    "\n",
    "    df[\"% Heavy Cold\"] = df[\"Heavy Cold Occurences\"]/(df[\"Plain Occurences\"] + df[\"Cool Occurences\"] + df[\"Warm Occurences\"] + df[\"Cold Occurences\"] + df[\"Heavy Cold Occurences\"] + df[\"Heavy Warm Occurences\"] + df[\"Hot Occurences\"] + df[\"Heavy Hot Occurences\"])\n",
    "\n",
    "    df[\"% Heavy Warm\"] = df[\"Heavy Warm Occurences\"]/(df[\"Plain Occurences\"] + df[\"Cool Occurences\"] + df[\"Warm Occurences\"] + df[\"Cold Occurences\"] + df[\"Heavy Cold Occurences\"] + df[\"Heavy Warm Occurences\"] + df[\"Hot Occurences\"] + df[\"Heavy Hot Occurences\"])\n",
    "\n",
    "    df[\"% Hot\"] = df[\"Hot Occurences\"]/(df[\"Plain Occurences\"] + df[\"Cool Occurences\"] + df[\"Warm Occurences\"] + df[\"Cold Occurences\"] + df[\"Heavy Cold Occurences\"] + df[\"Heavy Warm Occurences\"] + df[\"Hot Occurences\"] + df[\"Heavy Hot Occurences\"])\n",
    "\n",
    "    df[\"% Heavy Hot\"] = df[\"Heavy Hot Occurences\"]/(df[\"Plain Occurences\"] + df[\"Cool Occurences\"] + df[\"Warm Occurences\"] + df[\"Cold Occurences\"] + df[\"Heavy Cold Occurences\"] + df[\"Heavy Warm Occurences\"] + df[\"Hot Occurences\"] + df[\"Heavy Hot Occurences\"])\n",
    "\n",
    "    return df"
   ]
  },
  {
   "cell_type": "code",
   "execution_count": 10,
   "id": "910535f6",
   "metadata": {},
   "outputs": [],
   "source": [
    "def linear_scale_v1(df):\n",
    "    df[\"hot_cold_scale\"] = (df[\"% Plain\"] * (3.0/7.0)) + (df[\"% Cool\"] * (2.0/7.0)) + (df[\"% Warm\"] * (4.0/7.0)) + (df[\"% Cold\"] * (1.0/7.0)) + (df[\"% Heavy Cold\"] * (0.0/7.0)) + (df[\"% Heavy Warm\"] * (5.0/7.0)) + (df[\"% Hot\"] * (6.0/7.0)) + (df[\"% Heavy Hot\"] * (7.0/7.0))\n",
    "\n",
    "    return df"
   ]
  },
  {
   "cell_type": "code",
   "execution_count": 11,
   "id": "525c4bf0",
   "metadata": {},
   "outputs": [],
   "source": [
    "def linear_scale(df):\n",
    "    df[\"hot_cold_scale\"] = (df[\"% Plain\"] * (3.0/6.0)) + (df[\"% Cool\"] * (2.0/6.0)) + (df[\"% Warm\"] * (4.0/6.0)) + (df[\"% Cold\"] * (1.0/6.0)) + (df[\"% Heavy Cold\"] * (0.0/6.0)) + (df[\"% Heavy Warm\"] * (4.5/6.0)) + (df[\"% Hot\"] * (5.0/6.0)) + (df[\"% Heavy Hot\"] * (6.0/6.0))\n",
    "\n",
    "    return df"
   ]
  },
  {
   "cell_type": "code",
   "execution_count": 12,
   "id": "a2970bc8",
   "metadata": {},
   "outputs": [],
   "source": [
    "df = occurrences(df)"
   ]
  },
  {
   "cell_type": "code",
   "execution_count": 13,
   "id": "7f9b3dbb",
   "metadata": {},
   "outputs": [],
   "source": [
    "df = linear_scale(df)"
   ]
  },
  {
   "cell_type": "markdown",
   "id": "83f2e8f8",
   "metadata": {},
   "source": [
    "### NaN Values"
   ]
  },
  {
   "cell_type": "markdown",
   "id": "30a8bb60",
   "metadata": {},
   "source": [
    "Iterative Imputation\n",
    "https://machinelearningmastery.com/iterative-imputation-for-missing-values-in-machine-learning/"
   ]
  },
  {
   "cell_type": "code",
   "execution_count": 14,
   "id": "e780d5b3",
   "metadata": {},
   "outputs": [],
   "source": [
    "# df.info()"
   ]
  },
  {
   "cell_type": "code",
   "execution_count": 15,
   "id": "02b78f77",
   "metadata": {},
   "outputs": [],
   "source": [
    "def iterative_imputation(df):\n",
    "    ii_imp = IterativeImputer(estimator=ExtraTreesRegressor(), max_iter=10, random_state=1121218)\n",
    "\n",
    "    name = df.iloc[:, 0:1]\n",
    "    inputs = df.iloc[:, 1:39]\n",
    "    outputs = df.iloc[:, 39:]\n",
    "    \n",
    "    inputs = ii_imp.fit_transform(inputs)\n",
    "    new_inputs = pd.DataFrame(inputs, columns = ['Water (g)',\n",
    "     'Energy (kal)',\n",
    "     'Protein (g)',\n",
    "     'lipid (g)',\n",
    "     'Carbohydrate (g)',\n",
    "     'Fiber (g)',\n",
    "     'Sugars (g)',\n",
    "     'Ash (g)',\n",
    "     'Ca (mg)',\n",
    "     'Fe (mg)',\n",
    "     'Mg (mg)',\n",
    "     'P (mg)',\n",
    "     'K (mg)',\n",
    "     'Na (mg)',\n",
    "     'Zn (mg)',\n",
    "     'Se (µg)',\n",
    "     'Cu (mg)',\n",
    "     'Mn (mg)',\n",
    "     'I (µg)',\n",
    "     'Vc (mg)',\n",
    "     'Thiamin (mg)',\n",
    "     'Riboflavin (mg)',\n",
    "     'Niacin (mg)',\n",
    "     'B6 (mg)',\n",
    "     'Folate,DFE (µg)',\n",
    "     'B12 (µg)',\n",
    "     'Va,RAE (µg)',\n",
    "     'Ve (mg)',\n",
    "     'Vd (IU)',\n",
    "     'Vk (µg)',\n",
    "     'saturated (g)',\n",
    "     'monounsaturated (g)',\n",
    "     'polyunsaturated (g)',\n",
    "     'trans (g)',\n",
    "     'Cholesterol (mg)',\n",
    "     'Caffeine (mg)',\n",
    "     'phenolics (mg)',\n",
    "     'pH']) \n",
    "    \n",
    "    return pd.concat([name, new_inputs, outputs], axis=1)"
   ]
  },
  {
   "cell_type": "code",
   "execution_count": 20,
   "id": "368a9273",
   "metadata": {},
   "outputs": [],
   "source": [
    "df = iterative_imputation(df)\n",
    "# df.isnull().sum().sort_values(ascending=False)"
   ]
  },
  {
   "cell_type": "markdown",
   "id": "3182e07f",
   "metadata": {},
   "source": [
    "## Save Data"
   ]
  },
  {
   "cell_type": "code",
   "execution_count": 18,
   "id": "238cdec0",
   "metadata": {},
   "outputs": [
    {
     "name": "stdout",
     "output_type": "stream",
     "text": [
      "<class 'pandas.core.frame.DataFrame'>\n",
      "RangeIndex: 241 entries, 0 to 240\n",
      "Data columns (total 56 columns):\n",
      " #   Column                 Non-Null Count  Dtype  \n",
      "---  ------                 --------------  -----  \n",
      " 0   Food Name              241 non-null    object \n",
      " 1   Water (g)              241 non-null    float64\n",
      " 2   Energy (kal)           241 non-null    float64\n",
      " 3   Protein (g)            241 non-null    float64\n",
      " 4   lipid (g)              241 non-null    float64\n",
      " 5   Carbohydrate (g)       241 non-null    float64\n",
      " 6   Fiber (g)              241 non-null    float64\n",
      " 7   Sugars (g)             241 non-null    float64\n",
      " 8   Ash (g)                241 non-null    float64\n",
      " 9   Ca (mg)                241 non-null    float64\n",
      " 10  Fe (mg)                241 non-null    float64\n",
      " 11  Mg (mg)                241 non-null    float64\n",
      " 12  P (mg)                 241 non-null    float64\n",
      " 13  K (mg)                 241 non-null    float64\n",
      " 14  Na (mg)                241 non-null    float64\n",
      " 15  Zn (mg)                241 non-null    float64\n",
      " 16  Se (µg)                241 non-null    float64\n",
      " 17  Cu (mg)                241 non-null    float64\n",
      " 18  Mn (mg)                241 non-null    float64\n",
      " 19  I (µg)                 241 non-null    float64\n",
      " 20  Vc (mg)                241 non-null    float64\n",
      " 21  Thiamin (mg)           241 non-null    float64\n",
      " 22  Riboflavin (mg)        241 non-null    float64\n",
      " 23  Niacin (mg)            241 non-null    float64\n",
      " 24  B6 (mg)                241 non-null    float64\n",
      " 25  Folate,DFE (µg)        241 non-null    float64\n",
      " 26  B12 (µg)               241 non-null    float64\n",
      " 27  Va,RAE (µg)            241 non-null    float64\n",
      " 28  Ve (mg)                241 non-null    float64\n",
      " 29  Vd (IU)                241 non-null    float64\n",
      " 30  Vk (µg)                241 non-null    float64\n",
      " 31  saturated (g)          241 non-null    float64\n",
      " 32  monounsaturated (g)    241 non-null    float64\n",
      " 33  polyunsaturated (g)    241 non-null    float64\n",
      " 34  trans (g)              241 non-null    float64\n",
      " 35  Cholesterol (mg)       241 non-null    float64\n",
      " 36  Caffeine (mg)          241 non-null    float64\n",
      " 37  phenolics (mg)         241 non-null    float64\n",
      " 38  pH                     241 non-null    float64\n",
      " 39  Plain Occurences       241 non-null    int64  \n",
      " 40  Cool Occurences        241 non-null    int64  \n",
      " 41  Warm Occurences        241 non-null    int64  \n",
      " 42  Cold Occurences        241 non-null    int64  \n",
      " 43  Heavy Cold Occurences  241 non-null    int64  \n",
      " 44  Heavy Warm Occurences  241 non-null    int64  \n",
      " 45  Hot Occurences         241 non-null    int64  \n",
      " 46  Heavy Hot Occurences   241 non-null    int64  \n",
      " 47  % Plain                241 non-null    float64\n",
      " 48  % Cool                 241 non-null    float64\n",
      " 49  % Warm                 241 non-null    float64\n",
      " 50  % Cold                 241 non-null    float64\n",
      " 51  % Heavy Cold           241 non-null    float64\n",
      " 52  % Heavy Warm           241 non-null    float64\n",
      " 53  % Hot                  241 non-null    float64\n",
      " 54  % Heavy Hot            241 non-null    float64\n",
      " 55  hot_cold_scale         241 non-null    float64\n",
      "dtypes: float64(47), int64(8), object(1)\n",
      "memory usage: 105.6+ KB\n"
     ]
    }
   ],
   "source": [
    "df.info()"
   ]
  },
  {
   "cell_type": "code",
   "execution_count": 19,
   "id": "5a8950ab",
   "metadata": {},
   "outputs": [],
   "source": [
    "df.to_csv('./data/data_processed.csv') #just keep adjust code and re-running and overwriting this file, to then use in pipeline to see results"
   ]
  },
  {
   "cell_type": "code",
   "execution_count": null,
   "id": "f600e13c",
   "metadata": {},
   "outputs": [],
   "source": []
  }
 ],
 "metadata": {
  "kernelspec": {
   "display_name": "Python 3 (ipykernel)",
   "language": "python",
   "name": "python3"
  },
  "language_info": {
   "codemirror_mode": {
    "name": "ipython",
    "version": 3
   },
   "file_extension": ".py",
   "mimetype": "text/x-python",
   "name": "python",
   "nbconvert_exporter": "python",
   "pygments_lexer": "ipython3",
   "version": "3.8.5"
  }
 },
 "nbformat": 4,
 "nbformat_minor": 5
}
