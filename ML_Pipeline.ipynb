{
 "cells": [
  {
   "cell_type": "code",
   "execution_count": 1,
   "id": "dbb0a7ca",
   "metadata": {},
   "outputs": [],
   "source": [
    "import numpy as np\n",
    "import pandas as pd\n",
    "\n",
    "from sklearn.model_selection import train_test_split\n",
    "from sklearn import metrics\n",
    "from sklearn.metrics import confusion_matrix, accuracy_score\n",
    "\n",
    "from sklearn.preprocessing import StandardScaler\n",
    "from sklearn.linear_model import LogisticRegression\n",
    "from sklearn.preprocessing import MinMaxScaler\n",
    "\n",
    "\n",
    "from sklearn.neighbors import KNeighborsClassifier\n",
    "\n",
    "from sklearn.ensemble import RandomForestClassifier\n",
    "\n",
    "from sklearn import svm\n",
    "import sklearn.model_selection as model_selection\n",
    "from sklearn.metrics import f1_score\n",
    "from sklearn.svm import SVC\n",
    "from sklearn.utils import shuffle\n",
    "\n",
    "from sklearn.experimental import enable_iterative_imputer\n",
    "from sklearn.impute import IterativeImputer\n",
    "from sklearn.ensemble import ExtraTreesRegressor\n",
    "from sklearn import preprocessing\n",
    "\n",
    "from sklearn.metrics import plot_confusion_matrix"
   ]
  },
  {
   "cell_type": "code",
   "execution_count": 2,
   "id": "46c43bdf",
   "metadata": {},
   "outputs": [],
   "source": [
    "df = pd.read_csv('./data/data_processed.csv', index_col=0)"
   ]
  },
  {
   "cell_type": "code",
   "execution_count": 3,
   "id": "1861e280",
   "metadata": {},
   "outputs": [
    {
     "data": {
      "text/plain": [
       "Index(['Food_name', 'Water (g)', 'Energy (kal)', 'Protein (g)', 'lipid (g)',\n",
       "       'Carbohydrate (g)', 'Fiber (g)', 'Ash (g)', 'Ca (mg)', 'Fe (mg)',\n",
       "       'Mg (mg)', 'P (mg)', 'K (mg)', 'Na (mg)', 'Zn (mg)', 'Se (µg)',\n",
       "       'Cu (mg)', 'Mn (mg)', 'Vc (mg)', 'Thiamin (mg)', 'Riboflavin (mg)',\n",
       "       'Niacin (mg)', 'B6 (mg)', 'Folate,DFE (µg)', 'B12 (µg)', 'Va,RAE (µg)',\n",
       "       'Ve (mg)', 'saturated (g)', 'monounsaturated (g)',\n",
       "       'polyunsaturated (g)', 'trans (g)', 'Cholesterol (mg)', 'Caffeine (mg)',\n",
       "       'phenolics (mg)', 'pH', 'Plain Occurences', 'Cool Occurences',\n",
       "       'Warm Occurences', 'Cold Occurences', 'Heavy Cold Occurences',\n",
       "       'Heavy Warm Occurences', 'Hot Occurences', 'Heavy Hot Occurences',\n",
       "       '% Plain', '% Cool', '% Warm', '% Cold', '% Heavy Cold', '% Heavy Warm',\n",
       "       '% Hot', '% Heavy Hot', 'hot_cold_scale', 'Plain', 'Cold', 'Hot',\n",
       "       'Mode', 'Mode_code'],\n",
       "      dtype='object')"
      ]
     },
     "execution_count": 3,
     "metadata": {},
     "output_type": "execute_result"
    }
   ],
   "source": [
    "df.columns"
   ]
  },
  {
   "cell_type": "code",
   "execution_count": 4,
   "id": "b82ea023",
   "metadata": {
    "scrolled": true
   },
   "outputs": [],
   "source": [
    "df = df.drop([\"Plain Occurences\", \"Cool Occurences\", \"Warm Occurences\", \"Cold Occurences\", \"Heavy Cold Occurences\", \"Heavy Warm Occurences\",\"Hot Occurences\", \"Heavy Hot Occurences\", '% Plain', '% Cool', '% Warm', '% Cold', '% Heavy Cold', '% Heavy Warm','% Hot', '% Heavy Hot', 'Plain', 'Cold', 'Hot', 'hot_cold_scale'], axis = 1)"
   ]
  },
  {
   "cell_type": "code",
   "execution_count": 5,
   "id": "1c99b43e",
   "metadata": {},
   "outputs": [
    {
     "data": {
      "text/plain": [
       "Index(['Food_name', 'Water (g)', 'Energy (kal)', 'Protein (g)', 'lipid (g)',\n",
       "       'Carbohydrate (g)', 'Fiber (g)', 'Ash (g)', 'Ca (mg)', 'Fe (mg)',\n",
       "       'Mg (mg)', 'P (mg)', 'K (mg)', 'Na (mg)', 'Zn (mg)', 'Se (µg)',\n",
       "       'Cu (mg)', 'Mn (mg)', 'Vc (mg)', 'Thiamin (mg)', 'Riboflavin (mg)',\n",
       "       'Niacin (mg)', 'B6 (mg)', 'Folate,DFE (µg)', 'B12 (µg)', 'Va,RAE (µg)',\n",
       "       'Ve (mg)', 'saturated (g)', 'monounsaturated (g)',\n",
       "       'polyunsaturated (g)', 'trans (g)', 'Cholesterol (mg)', 'Caffeine (mg)',\n",
       "       'phenolics (mg)', 'pH', 'Mode', 'Mode_code'],\n",
       "      dtype='object')"
      ]
     },
     "execution_count": 5,
     "metadata": {},
     "output_type": "execute_result"
    }
   ],
   "source": [
    "df.columns"
   ]
  },
  {
   "cell_type": "code",
   "execution_count": 6,
   "id": "2285b6b2",
   "metadata": {},
   "outputs": [],
   "source": [
    "# Reduce the number of features (poor ML as little entries and too many features). The method is based on the previous statistical analysis. Only select the most significant\n",
    "\n",
    "def reducedCol(df):\n",
    "    df = df[['Food_name', 'B6 (mg)', 'Folate,DFE (µg)', 'Water (g)', 'B12 (µg)', 'Mn (mg)', 'Energy (kal)', 'Carbohydrate (g)', 'Protein (g)','Ve (mg)', 'P (mg)', 'K (mg)', 'Niacin (mg)', 'Vc (mg)', 'Fiber (g)', 'Mode', 'Mode_code']]\n",
    "    return df\n",
    "\n",
    "# df = reducedCol(df)\n",
    "    "
   ]
  },
  {
   "cell_type": "code",
   "execution_count": 7,
   "id": "bfc4d528",
   "metadata": {},
   "outputs": [
    {
     "data": {
      "text/plain": [
       "Index(['Food_name', 'Water (g)', 'Energy (kal)', 'Protein (g)', 'lipid (g)',\n",
       "       'Carbohydrate (g)', 'Fiber (g)', 'Ash (g)', 'Ca (mg)', 'Fe (mg)',\n",
       "       'Mg (mg)', 'P (mg)', 'K (mg)', 'Na (mg)', 'Zn (mg)', 'Se (µg)',\n",
       "       'Cu (mg)', 'Mn (mg)', 'Vc (mg)', 'Thiamin (mg)', 'Riboflavin (mg)',\n",
       "       'Niacin (mg)', 'B6 (mg)', 'Folate,DFE (µg)', 'B12 (µg)', 'Va,RAE (µg)',\n",
       "       'Ve (mg)', 'saturated (g)', 'monounsaturated (g)',\n",
       "       'polyunsaturated (g)', 'trans (g)', 'Cholesterol (mg)', 'Caffeine (mg)',\n",
       "       'phenolics (mg)', 'pH', 'Mode', 'Mode_code'],\n",
       "      dtype='object')"
      ]
     },
     "execution_count": 7,
     "metadata": {},
     "output_type": "execute_result"
    }
   ],
   "source": [
    "df.columns"
   ]
  },
  {
   "cell_type": "markdown",
   "id": "9e49dbc7",
   "metadata": {},
   "source": [
    "### Logistic Regression"
   ]
  },
  {
   "cell_type": "code",
   "execution_count": 8,
   "id": "235e522f",
   "metadata": {},
   "outputs": [],
   "source": [
    "def logistic_regression(df):\n",
    "    \"\"\"\n",
    "    Apply sample logistic regression model to dataframe\n",
    "\n",
    "    df : (dataframe)\n",
    "    x : (compounds column as int)\n",
    "    y : (classification column as int)\n",
    "    \"\"\"\n",
    "    # values of each column\n",
    "    x = df.iloc[:, 1:-1].drop(columns=\"Mode\")\n",
    "    y = df[\"Mode_code\"].astype('int')\n",
    "    # split data into training and test set\n",
    "    # 75 training, 25 testing\n",
    "    xtrain, xtest, ytrain, ytest = train_test_split(x, y, test_size = 0.2, random_state = 0)\n",
    "\n",
    "    # standardize and scale data\n",
    "    scaler = MinMaxScaler()\n",
    "    xtrain = scaler.fit_transform(xtrain)\n",
    "    xtest = scaler.fit_transform(xtest)\n",
    "\n",
    "    # modeling + analysis\n",
    "    model = LogisticRegression(multi_class='multinomial', solver='lbfgs', penalty='none')\n",
    "    model.fit(xtrain, ytrain.ravel())\n",
    "    y_pred = model.predict(xtest)\n",
    "\n",
    "    # confusion matrix of test size\n",
    "    conf_m = confusion_matrix(ytest, y_pred)\n",
    "    print(\"Confusion Matrix : \", conf_m)\n",
    "    \n",
    "    plot_confusion_matrix(model, xtest, ytest)\n",
    "\n",
    "    # accuracy score of test size\n",
    "    print (\"Accuracy : \", accuracy_score(ytest, y_pred))"
   ]
  },
  {
   "cell_type": "code",
   "execution_count": 9,
   "id": "6f2d9bf4",
   "metadata": {},
   "outputs": [
    {
     "name": "stderr",
     "output_type": "stream",
     "text": [
      "/Users/aaronxie/.local/share/virtualenvs/analysis-gniU7RWb/lib/python3.8/site-packages/sklearn/linear_model/_logistic.py:814: ConvergenceWarning: lbfgs failed to converge (status=1):\n",
      "STOP: TOTAL NO. of ITERATIONS REACHED LIMIT.\n",
      "\n",
      "Increase the number of iterations (max_iter) or scale the data as shown in:\n",
      "    https://scikit-learn.org/stable/modules/preprocessing.html\n",
      "Please also refer to the documentation for alternative solver options:\n",
      "    https://scikit-learn.org/stable/modules/linear_model.html#logistic-regression\n",
      "  n_iter_i = _check_optimize_result(\n",
      "/Users/aaronxie/.local/share/virtualenvs/analysis-gniU7RWb/lib/python3.8/site-packages/sklearn/utils/deprecation.py:87: FutureWarning: Function plot_confusion_matrix is deprecated; Function `plot_confusion_matrix` is deprecated in 1.0 and will be removed in 1.2. Use one of the class methods: ConfusionMatrixDisplay.from_predictions or ConfusionMatrixDisplay.from_estimator.\n",
      "  warnings.warn(msg, category=FutureWarning)\n"
     ]
    },
    {
     "name": "stdout",
     "output_type": "stream",
     "text": [
      "Confusion Matrix :  [[ 4  3 16]\n",
      " [ 6  7  5]\n",
      " [ 1  1  6]]\n",
      "Accuracy :  0.3469387755102041\n"
     ]
    },
    {
     "data": {
      "image/png": "[encoded data removed]",
      "text/plain": [
       "<Figure size 432x288 with 2 Axes>"
      ]
     },
     "metadata": {
      "needs_background": "light"
     },
     "output_type": "display_data"
    }
   ],
   "source": [
    "logistic_regression(df)"
   ]
  },
  {
   "cell_type": "markdown",
   "id": "0cc966dc",
   "metadata": {},
   "source": [
    "### KNN"
   ]
  },
  {
   "cell_type": "code",
   "execution_count": 10,
   "id": "77b2174e",
   "metadata": {},
   "outputs": [],
   "source": [
    "def knn(df):\n",
    "    x = df.iloc[:, 1:-1].drop(columns=\"Mode\")\n",
    "    y = df[\"Mode_code\"].astype('int')\n",
    "    \n",
    "    X_train, X_test, y_train, y_test = train_test_split(x, y, test_size=0.2, random_state=0)\n",
    "    knn = KNeighborsClassifier(n_neighbors = 5)\n",
    "    knn.fit(X_train, y_train)\n",
    "\n",
    "    y_pred = knn.predict(X_test)\n",
    "    \n",
    "    print (\"Accuracy : \", accuracy_score(y_test, y_pred))"
   ]
  },
  {
   "cell_type": "code",
   "execution_count": 11,
   "id": "c77dfca1",
   "metadata": {},
   "outputs": [
    {
     "name": "stdout",
     "output_type": "stream",
     "text": [
      "Accuracy :  0.3673469387755102\n"
     ]
    }
   ],
   "source": [
    "knn(df)"
   ]
  },
  {
   "cell_type": "markdown",
   "id": "9ec43447",
   "metadata": {},
   "source": [
    "more processing for following"
   ]
  },
  {
   "cell_type": "markdown",
   "id": "c0a86d51",
   "metadata": {},
   "source": [
    "### Random Forest"
   ]
  },
  {
   "cell_type": "code",
   "execution_count": 12,
   "id": "495829a0",
   "metadata": {},
   "outputs": [],
   "source": [
    "def random_forest(df):\n",
    "    X = df.iloc[:, 1:-1].drop(columns=\"Mode\")\n",
    "    Y = df[\"Mode_code\"].astype('int')\n",
    "\n",
    "    factor = pd.factorize(df['Mode'])\n",
    "    df.Mode = factor[0]\n",
    "    definitions = factor[1]\n",
    "    print(definitions)\n",
    "    X_train, X_test, y_train, y_test = train_test_split(X, Y, test_size = 0.25, random_state = 21)\n",
    "    scaler = StandardScaler()\n",
    "    X_train = scaler.fit_transform(X_train)\n",
    "    X_test = scaler.transform(X_test)\n",
    "    classifier = RandomForestClassifier(n_estimators = 100, criterion = 'entropy', random_state = 42)\n",
    "    classifier.fit(X_train, y_train)\n",
    "    y_pred = classifier.predict(X_test)\n",
    "    reversefactor = dict(zip(range(3),definitions))\n",
    "    y_test = np.vectorize(reversefactor.get)(y_test)\n",
    "    y_pred = np.vectorize(reversefactor.get)(y_pred)\n",
    "    print(pd.crosstab(y_test, y_pred, rownames=['Actual Temp'], colnames=['Predicted Temp']))\n",
    "    print(accuracy_score(y_test, y_pred))"
   ]
  },
  {
   "cell_type": "code",
   "execution_count": 13,
   "id": "f65be827",
   "metadata": {},
   "outputs": [
    {
     "name": "stdout",
     "output_type": "stream",
     "text": [
      "Index(['Plain', 'Cold', 'Hot'], dtype='object')\n",
      "Predicted Temp  Cold  Hot  Plain\n",
      "Actual Temp                     \n",
      "Cold              12    3      6\n",
      "Hot                7    4      4\n",
      "Plain              9    2     14\n",
      "0.4918032786885246\n"
     ]
    }
   ],
   "source": [
    "random_forest(df)"
   ]
  },
  {
   "cell_type": "markdown",
   "id": "2cd6ae67",
   "metadata": {},
   "source": [
    "### SVM"
   ]
  },
  {
   "cell_type": "code",
   "execution_count": 14,
   "id": "e4c7906f",
   "metadata": {},
   "outputs": [],
   "source": [
    "def svm(df):\n",
    "    X = df.iloc[:, 1:-1].drop(columns=\"Mode\")\n",
    "    y = df[\"Mode_code\"].astype('int')\n",
    "    X_train, X_test, y_train, y_test = model_selection.train_test_split(X, y, train_size=0.80, test_size=0.20, random_state=101)\n",
    "    rbf = SVC(kernel='rbf', gamma=0.5, C=0.1).fit(X_train, y_train)\n",
    "    poly = SVC(kernel='poly', degree=3, C=1).fit(X_train, y_train)\n",
    "    poly_pred = poly.predict(X_test)\n",
    "    rbf_pred = rbf.predict(X_test)\n",
    "    poly_accuracy = accuracy_score(y_test, poly_pred)\n",
    "    poly_f1 = f1_score(y_test, poly_pred, average='weighted')\n",
    "    print('Accuracy (Polynomial Kernel): ', \"%.2f\" % (poly_accuracy*100))\n",
    "    print('F1 (Polynomial Kernel): ', \"%.2f\" % (poly_f1*100))\n",
    "    rbf_accuracy = accuracy_score(y_test, rbf_pred)\n",
    "    rbf_f1 = f1_score(y_test, rbf_pred, average='weighted')\n",
    "    print('Accuracy (RBF Kernel): ', \"%.2f\" % (rbf_accuracy*100))\n",
    "    print('F1 (RBF Kernel): ', \"%.2f\" % (rbf_f1*100))"
   ]
  },
  {
   "cell_type": "code",
   "execution_count": 15,
   "id": "742fdf6f",
   "metadata": {},
   "outputs": [
    {
     "name": "stdout",
     "output_type": "stream",
     "text": [
      "Accuracy (Polynomial Kernel):  24.49\n",
      "F1 (Polynomial Kernel):  10.61\n",
      "Accuracy (RBF Kernel):  26.53\n",
      "F1 (RBF Kernel):  11.13\n"
     ]
    }
   ],
   "source": [
    "svm(df)"
   ]
  },
  {
   "cell_type": "code",
   "execution_count": null,
   "id": "10e8abd1",
   "metadata": {},
   "outputs": [],
   "source": []
  }
 ],
 "metadata": {
  "kernelspec": {
   "display_name": "Python 3 (ipykernel)",
   "language": "python",
   "name": "python3"
  },
  "language_info": {
   "codemirror_mode": {
    "name": "ipython",
    "version": 3
   },
   "file_extension": ".py",
   "mimetype": "text/x-python",
   "name": "python",
   "nbconvert_exporter": "python",
   "pygments_lexer": "ipython3",
   "version": "3.8.5"
  }
 },
 "nbformat": 4,
 "nbformat_minor": 5
}
