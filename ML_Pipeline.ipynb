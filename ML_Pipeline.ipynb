{
 "cells": [
  {
   "cell_type": "code",
   "execution_count": 55,
   "id": "dbb0a7ca",
   "metadata": {},
   "outputs": [],
   "source": [
    "import numpy as np\n",
    "import pandas as pd\n",
    "\n",
    "from sklearn.model_selection import train_test_split\n",
    "from sklearn import metrics\n",
    "from sklearn.metrics import confusion_matrix, accuracy_score\n",
    "\n",
    "from sklearn.preprocessing import StandardScaler\n",
    "from sklearn.linear_model import LogisticRegression\n",
    "\n",
    "\n",
    "from sklearn.neighbors import KNeighborsClassifier\n",
    "\n",
    "from sklearn.ensemble import RandomForestClassifier\n",
    "\n",
    "from sklearn import svm\n",
    "import sklearn.model_selection as model_selection\n",
    "from sklearn.metrics import f1_score\n",
    "from sklearn.svm import SVC\n",
    "from sklearn.utils import shuffle\n",
    "\n",
    "from sklearn.experimental import enable_iterative_imputer\n",
    "from sklearn.impute import IterativeImputer\n",
    "from sklearn.ensemble import ExtraTreesRegressor\n",
    "from sklearn import preprocessing\n",
    "\n",
    "from sklearn.metrics import plot_confusion_matrix"
   ]
  },
  {
   "cell_type": "code",
   "execution_count": 56,
   "id": "46c43bdf",
   "metadata": {},
   "outputs": [],
   "source": [
    "# df = pd.read_csv('./data/data_processed.csv', index_col=0)\n",
    "df = pd.read_csv('./data/data_processed_normalized.csv', index_col=0)\n",
    "# df = pd.read_csv('./data/raw_data_cleaned.csv')"
   ]
  },
  {
   "cell_type": "code",
   "execution_count": 57,
   "id": "1c99b43e",
   "metadata": {},
   "outputs": [
    {
     "data": {
      "text/plain": [
       "Index(['Food Name', 'Water (g)', 'Energy (kal)', 'Protein (g)', 'lipid (g)',\n",
       "       'Carbohydrate (g)', 'Fiber (g)', 'Ash (g)', 'Ca (mg)', 'Fe (mg)',\n",
       "       'Mg (mg)', 'P (mg)', 'K (mg)', 'Na (mg)', 'Zn (mg)', 'Se (µg)',\n",
       "       'Cu (mg)', 'Mn (mg)', 'Vc (mg)', 'Thiamin (mg)', 'Riboflavin (mg)',\n",
       "       'Niacin (mg)', 'B6 (mg)', 'Folate,DFE (µg)', 'B12 (µg)', 'Va,RAE (µg)',\n",
       "       'Ve (mg)', 'saturated (g)', 'monounsaturated (g)',\n",
       "       'polyunsaturated (g)', 'trans (g)', 'Cholesterol (mg)', 'Caffeine (mg)',\n",
       "       'phenolics (mg)', 'pH', 'Plain Occurences', 'Cool Occurences',\n",
       "       'Warm Occurences', 'Cold Occurences', 'Heavy Cold Occurences',\n",
       "       'Heavy Warm Occurences', 'Hot Occurences', 'Heavy Hot Occurences',\n",
       "       '% Plain', '% Cool', '% Warm', '% Cold', '% Heavy Cold', '% Heavy Warm',\n",
       "       '% Hot', '% Heavy Hot', 'hot_cold_scale', 'Plain', 'Cold', 'Hot',\n",
       "       'Mode'],\n",
       "      dtype='object')"
      ]
     },
     "execution_count": 57,
     "metadata": {},
     "output_type": "execute_result"
    }
   ],
   "source": [
    "df.columns"
   ]
  },
  {
   "cell_type": "code",
   "execution_count": 58,
   "id": "105aa38d",
   "metadata": {},
   "outputs": [],
   "source": [
    "df = df.drop(columns=['% Plain', '% Cool', '% Warm', '% Cold', '% Heavy Cold', '% Heavy Warm',\n",
    "       '% Hot', '% Heavy Hot', 'Plain', 'Cold', 'Hot', 'Plain Occurences', 'Cool Occurences',\n",
    "       'Warm Occurences', 'Cold Occurences', 'Heavy Cold Occurences',\n",
    "       'Heavy Warm Occurences', 'Hot Occurences', 'Heavy Hot Occurences',])"
   ]
  },
  {
   "cell_type": "code",
   "execution_count": 59,
   "id": "b168f7d6",
   "metadata": {
    "scrolled": true
   },
   "outputs": [
    {
     "data": {
      "text/plain": [
       "Index(['Food Name', 'Water (g)', 'Energy (kal)', 'Protein (g)', 'lipid (g)',\n",
       "       'Carbohydrate (g)', 'Fiber (g)', 'Ash (g)', 'Ca (mg)', 'Fe (mg)',\n",
       "       'Mg (mg)', 'P (mg)', 'K (mg)', 'Na (mg)', 'Zn (mg)', 'Se (µg)',\n",
       "       'Cu (mg)', 'Mn (mg)', 'Vc (mg)', 'Thiamin (mg)', 'Riboflavin (mg)',\n",
       "       'Niacin (mg)', 'B6 (mg)', 'Folate,DFE (µg)', 'B12 (µg)', 'Va,RAE (µg)',\n",
       "       'Ve (mg)', 'saturated (g)', 'monounsaturated (g)',\n",
       "       'polyunsaturated (g)', 'trans (g)', 'Cholesterol (mg)', 'Caffeine (mg)',\n",
       "       'phenolics (mg)', 'pH', 'hot_cold_scale', 'Mode'],\n",
       "      dtype='object')"
      ]
     },
     "execution_count": 59,
     "metadata": {},
     "output_type": "execute_result"
    }
   ],
   "source": [
    "df.columns"
   ]
  },
  {
   "cell_type": "code",
   "execution_count": 60,
   "id": "0fc5eb2b",
   "metadata": {},
   "outputs": [
    {
     "data": {
      "text/html": [
       "<div>\n",
       "<style scoped>\n",
       "    .dataframe tbody tr th:only-of-type {\n",
       "        vertical-align: middle;\n",
       "    }\n",
       "\n",
       "    .dataframe tbody tr th {\n",
       "        vertical-align: top;\n",
       "    }\n",
       "\n",
       "    .dataframe thead th {\n",
       "        text-align: right;\n",
       "    }\n",
       "</style>\n",
       "<table border=\"1\" class=\"dataframe\">\n",
       "  <thead>\n",
       "    <tr style=\"text-align: right;\">\n",
       "      <th></th>\n",
       "      <th>Food Name</th>\n",
       "      <th>Water (g)</th>\n",
       "      <th>Energy (kal)</th>\n",
       "      <th>Protein (g)</th>\n",
       "      <th>lipid (g)</th>\n",
       "      <th>Carbohydrate (g)</th>\n",
       "      <th>Fiber (g)</th>\n",
       "      <th>Ash (g)</th>\n",
       "      <th>Ca (mg)</th>\n",
       "      <th>Fe (mg)</th>\n",
       "      <th>...</th>\n",
       "      <th>saturated (g)</th>\n",
       "      <th>monounsaturated (g)</th>\n",
       "      <th>polyunsaturated (g)</th>\n",
       "      <th>trans (g)</th>\n",
       "      <th>Cholesterol (mg)</th>\n",
       "      <th>Caffeine (mg)</th>\n",
       "      <th>phenolics (mg)</th>\n",
       "      <th>pH</th>\n",
       "      <th>hot_cold_scale</th>\n",
       "      <th>Mode</th>\n",
       "    </tr>\n",
       "  </thead>\n",
       "  <tbody>\n",
       "    <tr>\n",
       "      <th>0</th>\n",
       "      <td>Alfalfa</td>\n",
       "      <td>0.903084</td>\n",
       "      <td>0.036199</td>\n",
       "      <td>0.092251</td>\n",
       "      <td>0.0070</td>\n",
       "      <td>0.029565</td>\n",
       "      <td>0.035714</td>\n",
       "      <td>0.012024</td>\n",
       "      <td>0.093645</td>\n",
       "      <td>0.028747</td>\n",
       "      <td>...</td>\n",
       "      <td>0.000734</td>\n",
       "      <td>0.000885</td>\n",
       "      <td>0.009808</td>\n",
       "      <td>0.0</td>\n",
       "      <td>0.0</td>\n",
       "      <td>0.0</td>\n",
       "      <td>0.056587</td>\n",
       "      <td>0.501295</td>\n",
       "      <td>0.5</td>\n",
       "      <td>Plain</td>\n",
       "    </tr>\n",
       "    <tr>\n",
       "      <th>1</th>\n",
       "      <td>dolichos sinensis</td>\n",
       "      <td>0.902082</td>\n",
       "      <td>0.020362</td>\n",
       "      <td>0.040590</td>\n",
       "      <td>0.0030</td>\n",
       "      <td>0.074421</td>\n",
       "      <td>0.080827</td>\n",
       "      <td>0.007014</td>\n",
       "      <td>0.051839</td>\n",
       "      <td>0.008214</td>\n",
       "      <td>...</td>\n",
       "      <td>0.003193</td>\n",
       "      <td>0.003161</td>\n",
       "      <td>0.011990</td>\n",
       "      <td>0.0</td>\n",
       "      <td>0.0</td>\n",
       "      <td>0.0</td>\n",
       "      <td>0.005868</td>\n",
       "      <td>0.545557</td>\n",
       "      <td>0.5</td>\n",
       "      <td>Plain</td>\n",
       "    </tr>\n",
       "    <tr>\n",
       "      <th>2</th>\n",
       "      <td>hazelnuts</td>\n",
       "      <td>0.053164</td>\n",
       "      <td>0.710407</td>\n",
       "      <td>0.275830</td>\n",
       "      <td>0.6075</td>\n",
       "      <td>0.170252</td>\n",
       "      <td>0.182331</td>\n",
       "      <td>0.041082</td>\n",
       "      <td>0.095318</td>\n",
       "      <td>0.048255</td>\n",
       "      <td>...</td>\n",
       "      <td>0.047507</td>\n",
       "      <td>0.721474</td>\n",
       "      <td>0.189928</td>\n",
       "      <td>0.0</td>\n",
       "      <td>0.0</td>\n",
       "      <td>0.0</td>\n",
       "      <td>0.041018</td>\n",
       "      <td>0.636909</td>\n",
       "      <td>0.5</td>\n",
       "      <td>Plain</td>\n",
       "    </tr>\n",
       "    <tr>\n",
       "      <th>3</th>\n",
       "      <td>Beans, kidney</td>\n",
       "      <td>0.117641</td>\n",
       "      <td>0.376697</td>\n",
       "      <td>0.435055</td>\n",
       "      <td>0.0083</td>\n",
       "      <td>0.611785</td>\n",
       "      <td>0.468045</td>\n",
       "      <td>0.009018</td>\n",
       "      <td>0.119565</td>\n",
       "      <td>0.084189</td>\n",
       "      <td>...</td>\n",
       "      <td>0.001277</td>\n",
       "      <td>0.001011</td>\n",
       "      <td>0.010959</td>\n",
       "      <td>0.0</td>\n",
       "      <td>0.0</td>\n",
       "      <td>0.0</td>\n",
       "      <td>0.004102</td>\n",
       "      <td>0.511364</td>\n",
       "      <td>0.5</td>\n",
       "      <td>Plain</td>\n",
       "    </tr>\n",
       "    <tr>\n",
       "      <th>4</th>\n",
       "      <td>Peanuts,</td>\n",
       "      <td>0.065078</td>\n",
       "      <td>0.641403</td>\n",
       "      <td>0.476015</td>\n",
       "      <td>0.4924</td>\n",
       "      <td>0.164441</td>\n",
       "      <td>0.159774</td>\n",
       "      <td>0.032064</td>\n",
       "      <td>0.076923</td>\n",
       "      <td>0.047023</td>\n",
       "      <td>...</td>\n",
       "      <td>0.066822</td>\n",
       "      <td>0.386023</td>\n",
       "      <td>0.373094</td>\n",
       "      <td>0.0</td>\n",
       "      <td>0.0</td>\n",
       "      <td>0.0</td>\n",
       "      <td>0.053398</td>\n",
       "      <td>0.715909</td>\n",
       "      <td>0.5</td>\n",
       "      <td>Plain</td>\n",
       "    </tr>\n",
       "  </tbody>\n",
       "</table>\n",
       "<p>5 rows × 37 columns</p>\n",
       "</div>"
      ],
      "text/plain": [
       "           Food Name  Water (g)  Energy (kal)  Protein (g)  lipid (g)  \\\n",
       "0            Alfalfa   0.903084      0.036199     0.092251     0.0070   \n",
       "1  dolichos sinensis   0.902082      0.020362     0.040590     0.0030   \n",
       "2          hazelnuts   0.053164      0.710407     0.275830     0.6075   \n",
       "3      Beans, kidney   0.117641      0.376697     0.435055     0.0083   \n",
       "4           Peanuts,   0.065078      0.641403     0.476015     0.4924   \n",
       "\n",
       "   Carbohydrate (g)  Fiber (g)   Ash (g)   Ca (mg)   Fe (mg)  ...  \\\n",
       "0          0.029565   0.035714  0.012024  0.093645  0.028747  ...   \n",
       "1          0.074421   0.080827  0.007014  0.051839  0.008214  ...   \n",
       "2          0.170252   0.182331  0.041082  0.095318  0.048255  ...   \n",
       "3          0.611785   0.468045  0.009018  0.119565  0.084189  ...   \n",
       "4          0.164441   0.159774  0.032064  0.076923  0.047023  ...   \n",
       "\n",
       "   saturated (g)  monounsaturated (g)  polyunsaturated (g)  trans (g)  \\\n",
       "0       0.000734             0.000885             0.009808        0.0   \n",
       "1       0.003193             0.003161             0.011990        0.0   \n",
       "2       0.047507             0.721474             0.189928        0.0   \n",
       "3       0.001277             0.001011             0.010959        0.0   \n",
       "4       0.066822             0.386023             0.373094        0.0   \n",
       "\n",
       "   Cholesterol (mg)  Caffeine (mg)  phenolics (mg)        pH  hot_cold_scale  \\\n",
       "0               0.0            0.0        0.056587  0.501295             0.5   \n",
       "1               0.0            0.0        0.005868  0.545557             0.5   \n",
       "2               0.0            0.0        0.041018  0.636909             0.5   \n",
       "3               0.0            0.0        0.004102  0.511364             0.5   \n",
       "4               0.0            0.0        0.053398  0.715909             0.5   \n",
       "\n",
       "    Mode  \n",
       "0  Plain  \n",
       "1  Plain  \n",
       "2  Plain  \n",
       "3  Plain  \n",
       "4  Plain  \n",
       "\n",
       "[5 rows x 37 columns]"
      ]
     },
     "execution_count": 60,
     "metadata": {},
     "output_type": "execute_result"
    }
   ],
   "source": [
    "df.head()"
   ]
  },
  {
   "cell_type": "markdown",
   "id": "9e49dbc7",
   "metadata": {},
   "source": [
    "### Logistic Regression"
   ]
  },
  {
   "cell_type": "code",
   "execution_count": 61,
   "id": "e0330ed3",
   "metadata": {},
   "outputs": [],
   "source": [
    "def label_mode(row):\n",
    "    if row['Mode'] == 'Plain':\n",
    "        return 0\n",
    "    elif row['Mode'] == 'Cold':\n",
    "        return 1\n",
    "    elif row['Mode'] == 'Hot':\n",
    "        return 2\n",
    "    else:\n",
    "        return 3\n",
    "    \n",
    "df['mode_code'] = df.apply (lambda row: label_mode(row), axis=1)\n",
    "\n",
    "df = df.drop(columns='Mode')"
   ]
  },
  {
   "cell_type": "code",
   "execution_count": 62,
   "id": "7042ba43-a277-4bcb-ab92-2f34bb4dd811",
   "metadata": {},
   "outputs": [
    {
     "data": {
      "text/plain": [
       "Water (g)              0.903084\n",
       "Energy (kal)           0.036199\n",
       "Protein (g)            0.092251\n",
       "lipid (g)                 0.007\n",
       "Carbohydrate (g)       0.029565\n",
       "Fiber (g)              0.035714\n",
       "Ash (g)                0.012024\n",
       "Ca (mg)                0.093645\n",
       "Fe (mg)                0.028747\n",
       "Mg (mg)                0.014085\n",
       "P (mg)                 0.013119\n",
       "K (mg)                 0.002693\n",
       "Na (mg)                0.000676\n",
       "Zn (mg)                0.006361\n",
       "Se (µg)                0.000747\n",
       "Cu (mg)                0.003337\n",
       "Mn (mg)                0.010545\n",
       "Vc (mg)                0.420619\n",
       "Thiamin (mg)           0.000001\n",
       "Riboflavin (mg)        0.000825\n",
       "Niacin (mg)            0.029416\n",
       "B6 (mg)                0.037713\n",
       "Folate,DFE (µg)         0.08143\n",
       "B12 (µg)                    0.0\n",
       "Va,RAE (µg)            0.386402\n",
       "Ve (mg)                  0.0564\n",
       "saturated (g)          0.000734\n",
       "monounsaturated (g)    0.000885\n",
       "polyunsaturated (g)    0.009808\n",
       "trans (g)                   0.0\n",
       "Cholesterol (mg)            0.0\n",
       "Caffeine (mg)               0.0\n",
       "phenolics (mg)         0.056587\n",
       "pH                     0.501295\n",
       "hot_cold_scale              0.5\n",
       "Name: 0, dtype: object"
      ]
     },
     "execution_count": 62,
     "metadata": {},
     "output_type": "execute_result"
    }
   ],
   "source": [
    "df.iloc[0, 1:-1]"
   ]
  },
  {
   "cell_type": "code",
   "execution_count": 67,
   "id": "235e522f",
   "metadata": {},
   "outputs": [],
   "source": [
    "def logistic_regression(df):\n",
    "    \"\"\"\n",
    "    Apply sample logistic regression model to dataframe\n",
    "\n",
    "    df : (dataframe)\n",
    "    x : (compounds column as int)\n",
    "    y : (classification column as int)\n",
    "    \"\"\"\n",
    "    # values of each column\n",
    "    x = df.iloc[:, 1:-1] # df.iloc[2:, 1:39]??\n",
    "    y = df[\"mode_code\"].astype('int')\n",
    "    # split data into training and test set\n",
    "    # 75 training, 25 testing\n",
    "    xtrain, xtest, ytrain, ytest = train_test_split(x, y, test_size = 0.2, random_state = 0)\n",
    "\n",
    "    # standardize and scale data\n",
    "    scaler = StandardScaler()\n",
    "    xtrain = scaler.fit_transform(xtrain)\n",
    "    xtest = scaler.transform(xtest)\n",
    "\n",
    "    # modeling + analysis\n",
    "    model = LogisticRegression(multi_class='multinomial', solver='lbfgs', penalty='none')\n",
    "    model.fit(xtrain, ytrain.ravel())\n",
    "    y_pred = model.predict(xtest)\n",
    "\n",
    "    # confusion matrix of test size\n",
    "    conf_m = confusion_matrix(ytest, y_pred)\n",
    "    print(\"Confusion Matrix : \", conf_m)\n",
    "    \n",
    "    plot_confusion_matrix(model, xtest, ytest)\n",
    "\n",
    "    # accuracy score of test size\n",
    "    print (\"Accuracy : \", accuracy_score(ytest, y_pred))"
   ]
  },
  {
   "cell_type": "code",
   "execution_count": 68,
   "id": "6f2d9bf4",
   "metadata": {},
   "outputs": [
    {
     "name": "stdout",
     "output_type": "stream",
     "text": [
      "Confusion Matrix :  [[15  3  0]\n",
      " [ 2 21  0]\n",
      " [ 0  0  8]]\n",
      "Accuracy :  0.8979591836734694\n"
     ]
    },
    {
     "name": "stderr",
     "output_type": "stream",
     "text": [
      "/Library/Frameworks/Python.framework/Versions/3.8/lib/python3.8/site-packages/sklearn/utils/deprecation.py:87: FutureWarning: Function plot_confusion_matrix is deprecated; Function `plot_confusion_matrix` is deprecated in 1.0 and will be removed in 1.2. Use one of the class methods: ConfusionMatrixDisplay.from_predictions or ConfusionMatrixDisplay.from_estimator.\n",
      "  warnings.warn(msg, category=FutureWarning)\n"
     ]
    },
    {
     "data": {
      "image/png": "[encoded data removed]",
      "text/plain": [
       "<Figure size 432x288 with 2 Axes>"
      ]
     },
     "metadata": {
      "needs_background": "light"
     },
     "output_type": "display_data"
    }
   ],
   "source": [
    "logistic_regression(df)"
   ]
  },
  {
   "cell_type": "markdown",
   "id": "0cc966dc",
   "metadata": {},
   "source": [
    "### KNN"
   ]
  },
  {
   "cell_type": "code",
   "execution_count": 55,
   "id": "77b2174e",
   "metadata": {},
   "outputs": [],
   "source": [
    "def knn(df, y_col_name):\n",
    "    x = df.iloc[:, 1:-1] # df.iloc[2:, 1:39]??\n",
    "    y = df[y_col_name][:]\n",
    "    \n",
    "    X_train, X_test, y_train, y_test = train_test_split(x, y, test_size=0.2, random_state=0)\n",
    "    knn = KNeighborsClassifier(n_neighbors = 5)\n",
    "    knn.fit(X_train, y_train)\n",
    "\n",
    "    y_pred = knn.predict(X_test)\n",
    "    \n",
    "    print (\"Accuracy : \", accuracy_score(y_test, y_pred))"
   ]
  },
  {
   "cell_type": "code",
   "execution_count": 56,
   "id": "c77dfca1",
   "metadata": {},
   "outputs": [
    {
     "name": "stdout",
     "output_type": "stream",
     "text": [
      "Accuracy :  0.16326530612244897\n"
     ]
    },
    {
     "name": "stderr",
     "output_type": "stream",
     "text": [
      "/Users/aaronxie/.local/share/virtualenvs/analysis-gniU7RWb/lib/python3.8/site-packages/sklearn/base.py:441: UserWarning: X does not have valid feature names, but KNeighborsClassifier was fitted with feature names\n",
      "  warnings.warn(\n"
     ]
    }
   ],
   "source": [
    "knn(df, \"hot_cold_scale\")"
   ]
  },
  {
   "cell_type": "markdown",
   "id": "9ec43447",
   "metadata": {},
   "source": [
    "more processing for following"
   ]
  },
  {
   "cell_type": "markdown",
   "id": "c0a86d51",
   "metadata": {},
   "source": [
    "### Random Forest"
   ]
  },
  {
   "cell_type": "code",
   "execution_count": 85,
   "id": "6a4367fe",
   "metadata": {
    "scrolled": true
   },
   "outputs": [
    {
     "data": {
      "text/plain": [
       "Index(['Unnamed: 0.1', 'Water (g)', 'Energy (kal)', 'Protein (g)', 'lipid (g)',\n",
       "       'Carbohydrate (g)', 'Fiber (g)', 'Ash (g)', 'Ca (mg)', 'Fe (mg)',\n",
       "       'Mg (mg)', 'P (mg)', 'K (mg)', 'Na (mg)', 'Zn (mg)', 'Se (µg)',\n",
       "       'Cu (mg)', 'Mn (mg)', 'Vc (mg)', 'Thiamin (mg)', 'Riboflavin (mg)',\n",
       "       'Niacin (mg)', 'B6 (mg)', 'Folate,DFE (µg)', 'B12 (µg)', 'Va,RAE (µg)',\n",
       "       'Ve (mg)', 'saturated (g)', 'monounsaturated (g)',\n",
       "       'polyunsaturated (g)', 'trans (g)', 'Cholesterol (mg)', 'Caffeine (mg)',\n",
       "       'phenolics (mg)', 'pH', 'Plain Occurences', 'Cool Occurences',\n",
       "       'Warm Occurences', 'Cold Occurences', 'Heavy Cold Occurences',\n",
       "       'Heavy Warm Occurences', 'Hot Occurences', 'Heavy Hot Occurences',\n",
       "       '% Plain', '% Cool', '% Warm', '% Cold', '% Heavy Cold', '% Heavy Warm',\n",
       "       '% Hot', '% Heavy Hot', 'hot_cold_scale', 'Plain', 'Cold', 'Hot',\n",
       "       'Mode'],\n",
       "      dtype='object')"
      ]
     },
     "execution_count": 85,
     "metadata": {},
     "output_type": "execute_result"
    }
   ],
   "source": [
    "df = pd.read_csv('./data/data_processed_normalized.csv', index_col=0)\n",
    "df.columns"
   ]
  },
  {
   "cell_type": "code",
   "execution_count": 15,
   "id": "cdccee31",
   "metadata": {},
   "outputs": [
    {
     "ename": "KeyError",
     "evalue": "'mode_code'",
     "output_type": "error",
     "traceback": [
      "\u001b[0;31m---------------------------------------------------------------------------\u001b[0m",
      "\u001b[0;31mKeyError\u001b[0m                                  Traceback (most recent call last)",
      "\u001b[0;32m/Library/Frameworks/Python.framework/Versions/3.8/lib/python3.8/site-packages/pandas/core/indexes/base.py\u001b[0m in \u001b[0;36mget_loc\u001b[0;34m(self, key, method, tolerance)\u001b[0m\n\u001b[1;32m   3360\u001b[0m             \u001b[0;32mtry\u001b[0m\u001b[0;34m:\u001b[0m\u001b[0;34m\u001b[0m\u001b[0;34m\u001b[0m\u001b[0m\n\u001b[0;32m-> 3361\u001b[0;31m                 \u001b[0;32mreturn\u001b[0m \u001b[0mself\u001b[0m\u001b[0;34m.\u001b[0m\u001b[0m_engine\u001b[0m\u001b[0;34m.\u001b[0m\u001b[0mget_loc\u001b[0m\u001b[0;34m(\u001b[0m\u001b[0mcasted_key\u001b[0m\u001b[0;34m)\u001b[0m\u001b[0;34m\u001b[0m\u001b[0;34m\u001b[0m\u001b[0m\n\u001b[0m\u001b[1;32m   3362\u001b[0m             \u001b[0;32mexcept\u001b[0m \u001b[0mKeyError\u001b[0m \u001b[0;32mas\u001b[0m \u001b[0merr\u001b[0m\u001b[0;34m:\u001b[0m\u001b[0;34m\u001b[0m\u001b[0;34m\u001b[0m\u001b[0m\n",
      "\u001b[0;32m/Library/Frameworks/Python.framework/Versions/3.8/lib/python3.8/site-packages/pandas/_libs/index.pyx\u001b[0m in \u001b[0;36mpandas._libs.index.IndexEngine.get_loc\u001b[0;34m()\u001b[0m\n",
      "\u001b[0;32m/Library/Frameworks/Python.framework/Versions/3.8/lib/python3.8/site-packages/pandas/_libs/index.pyx\u001b[0m in \u001b[0;36mpandas._libs.index.IndexEngine.get_loc\u001b[0;34m()\u001b[0m\n",
      "\u001b[0;32mpandas/_libs/hashtable_class_helper.pxi\u001b[0m in \u001b[0;36mpandas._libs.hashtable.PyObjectHashTable.get_item\u001b[0;34m()\u001b[0m\n",
      "\u001b[0;32mpandas/_libs/hashtable_class_helper.pxi\u001b[0m in \u001b[0;36mpandas._libs.hashtable.PyObjectHashTable.get_item\u001b[0;34m()\u001b[0m\n",
      "\u001b[0;31mKeyError\u001b[0m: 'mode_code'",
      "\nThe above exception was the direct cause of the following exception:\n",
      "\u001b[0;31mKeyError\u001b[0m                                  Traceback (most recent call last)",
      "\u001b[0;32m<ipython-input-15-b0c098a46fb6>\u001b[0m in \u001b[0;36m<module>\u001b[0;34m\u001b[0m\n\u001b[0;32m----> 1\u001b[0;31m \u001b[0mdf\u001b[0m\u001b[0;34m[\u001b[0m\u001b[0;34m'mode_code'\u001b[0m\u001b[0;34m]\u001b[0m\u001b[0;34m\u001b[0m\u001b[0;34m\u001b[0m\u001b[0m\n\u001b[0m",
      "\u001b[0;32m/Library/Frameworks/Python.framework/Versions/3.8/lib/python3.8/site-packages/pandas/core/frame.py\u001b[0m in \u001b[0;36m__getitem__\u001b[0;34m(self, key)\u001b[0m\n\u001b[1;32m   3456\u001b[0m             \u001b[0;32mif\u001b[0m \u001b[0mself\u001b[0m\u001b[0;34m.\u001b[0m\u001b[0mcolumns\u001b[0m\u001b[0;34m.\u001b[0m\u001b[0mnlevels\u001b[0m \u001b[0;34m>\u001b[0m \u001b[0;36m1\u001b[0m\u001b[0;34m:\u001b[0m\u001b[0;34m\u001b[0m\u001b[0;34m\u001b[0m\u001b[0m\n\u001b[1;32m   3457\u001b[0m                 \u001b[0;32mreturn\u001b[0m \u001b[0mself\u001b[0m\u001b[0;34m.\u001b[0m\u001b[0m_getitem_multilevel\u001b[0m\u001b[0;34m(\u001b[0m\u001b[0mkey\u001b[0m\u001b[0;34m)\u001b[0m\u001b[0;34m\u001b[0m\u001b[0;34m\u001b[0m\u001b[0m\n\u001b[0;32m-> 3458\u001b[0;31m             \u001b[0mindexer\u001b[0m \u001b[0;34m=\u001b[0m \u001b[0mself\u001b[0m\u001b[0;34m.\u001b[0m\u001b[0mcolumns\u001b[0m\u001b[0;34m.\u001b[0m\u001b[0mget_loc\u001b[0m\u001b[0;34m(\u001b[0m\u001b[0mkey\u001b[0m\u001b[0;34m)\u001b[0m\u001b[0;34m\u001b[0m\u001b[0;34m\u001b[0m\u001b[0m\n\u001b[0m\u001b[1;32m   3459\u001b[0m             \u001b[0;32mif\u001b[0m \u001b[0mis_integer\u001b[0m\u001b[0;34m(\u001b[0m\u001b[0mindexer\u001b[0m\u001b[0;34m)\u001b[0m\u001b[0;34m:\u001b[0m\u001b[0;34m\u001b[0m\u001b[0;34m\u001b[0m\u001b[0m\n\u001b[1;32m   3460\u001b[0m                 \u001b[0mindexer\u001b[0m \u001b[0;34m=\u001b[0m \u001b[0;34m[\u001b[0m\u001b[0mindexer\u001b[0m\u001b[0;34m]\u001b[0m\u001b[0;34m\u001b[0m\u001b[0;34m\u001b[0m\u001b[0m\n",
      "\u001b[0;32m/Library/Frameworks/Python.framework/Versions/3.8/lib/python3.8/site-packages/pandas/core/indexes/base.py\u001b[0m in \u001b[0;36mget_loc\u001b[0;34m(self, key, method, tolerance)\u001b[0m\n\u001b[1;32m   3361\u001b[0m                 \u001b[0;32mreturn\u001b[0m \u001b[0mself\u001b[0m\u001b[0;34m.\u001b[0m\u001b[0m_engine\u001b[0m\u001b[0;34m.\u001b[0m\u001b[0mget_loc\u001b[0m\u001b[0;34m(\u001b[0m\u001b[0mcasted_key\u001b[0m\u001b[0;34m)\u001b[0m\u001b[0;34m\u001b[0m\u001b[0;34m\u001b[0m\u001b[0m\n\u001b[1;32m   3362\u001b[0m             \u001b[0;32mexcept\u001b[0m \u001b[0mKeyError\u001b[0m \u001b[0;32mas\u001b[0m \u001b[0merr\u001b[0m\u001b[0;34m:\u001b[0m\u001b[0;34m\u001b[0m\u001b[0;34m\u001b[0m\u001b[0m\n\u001b[0;32m-> 3363\u001b[0;31m                 \u001b[0;32mraise\u001b[0m \u001b[0mKeyError\u001b[0m\u001b[0;34m(\u001b[0m\u001b[0mkey\u001b[0m\u001b[0;34m)\u001b[0m \u001b[0;32mfrom\u001b[0m \u001b[0merr\u001b[0m\u001b[0;34m\u001b[0m\u001b[0;34m\u001b[0m\u001b[0m\n\u001b[0m\u001b[1;32m   3364\u001b[0m \u001b[0;34m\u001b[0m\u001b[0m\n\u001b[1;32m   3365\u001b[0m         \u001b[0;32mif\u001b[0m \u001b[0mis_scalar\u001b[0m\u001b[0;34m(\u001b[0m\u001b[0mkey\u001b[0m\u001b[0;34m)\u001b[0m \u001b[0;32mand\u001b[0m \u001b[0misna\u001b[0m\u001b[0;34m(\u001b[0m\u001b[0mkey\u001b[0m\u001b[0;34m)\u001b[0m \u001b[0;32mand\u001b[0m \u001b[0;32mnot\u001b[0m \u001b[0mself\u001b[0m\u001b[0;34m.\u001b[0m\u001b[0mhasnans\u001b[0m\u001b[0;34m:\u001b[0m\u001b[0;34m\u001b[0m\u001b[0;34m\u001b[0m\u001b[0m\n",
      "\u001b[0;31mKeyError\u001b[0m: 'mode_code'"
     ]
    }
   ],
   "source": [
    "df['mode_code']"
   ]
  },
  {
   "cell_type": "code",
   "execution_count": 102,
   "id": "495829a0",
   "metadata": {},
   "outputs": [],
   "source": [
    "def random_forest(df):\n",
    "    X = df.drop([\"Plain Occurences\", \"Cool Occurences\", \"Warm Occurences\", \"Cold Occurences\", \"Heavy Cold Occurences\", \"Heavy Warm Occurences\",\"Hot Occurences\", \"Heavy Hot Occurences\", \"mode_code\", \"Mode\", '% Plain', '% Cool', '% Warm', '% Cold', '% Heavy Cold', '% Heavy Warm','% Hot', '% Heavy Hot', 'Plain', 'Cold', 'Hot', 'hot_cold_scale'], axis = 1)\n",
    "    Y = df[\"mode_code\"].astype('int')\n",
    "\n",
    "    factor = pd.factorize(df['Mode'])\n",
    "    df.Mode = factor[0]\n",
    "    definitions = factor[1]\n",
    "    print(definitions)\n",
    "    X_train, X_test, y_train, y_test = train_test_split(X, Y, test_size = 0.25, random_state = 21)\n",
    "    scaler = StandardScaler()\n",
    "    X_train = scaler.fit_transform(X_train)\n",
    "    X_test = scaler.transform(X_test)\n",
    "    classifier = RandomForestClassifier(n_estimators = 100, criterion = 'entropy', random_state = 42)\n",
    "    classifier.fit(X_train, y_train)\n",
    "    y_pred = classifier.predict(X_test)\n",
    "    reversefactor = dict(zip(range(3),definitions))\n",
    "    y_test = np.vectorize(reversefactor.get)(y_test)\n",
    "    y_pred = np.vectorize(reversefactor.get)(y_pred)\n",
    "    print(pd.crosstab(y_test, y_pred, rownames=['Actual Temp'], colnames=['Predicted Temp']))\n",
    "    print(accuracy_score(y_test, y_pred))"
   ]
  },
  {
   "cell_type": "code",
   "execution_count": 103,
   "id": "f65be827",
   "metadata": {},
   "outputs": [
    {
     "name": "stdout",
     "output_type": "stream",
     "text": [
      "Int64Index([0, 1, 2], dtype='int64')\n",
      "Predicted Temp   0   1  2\n",
      "Actual Temp              \n",
      "0               14   4  3\n",
      "1                9  15  1\n",
      "2                6   4  5\n",
      "0.5573770491803278\n"
     ]
    }
   ],
   "source": [
    "random_forest(df)"
   ]
  },
  {
   "cell_type": "markdown",
   "id": "2cd6ae67",
   "metadata": {},
   "source": [
    "### SVM"
   ]
  },
  {
   "cell_type": "code",
   "execution_count": 107,
   "id": "e4c7906f",
   "metadata": {},
   "outputs": [],
   "source": [
    "def svm(df):\n",
    "    X = df.drop([\"Plain Occurences\", \"Cool Occurences\", \"Warm Occurences\", \"Cold Occurences\", \"Heavy Cold Occurences\", \"Heavy Warm Occurences\",\"Hot Occurences\", \"Heavy Hot Occurences\", \"mode_code\", \"Mode\", '% Plain', '% Cool', '% Warm', '% Cold', '% Heavy Cold', '% Heavy Warm','% Hot', '% Heavy Hot', 'Plain', 'Cold', 'Hot', 'hot_cold_scale'], axis = 1)\n",
    "    y = df[\"mode_code\"].astype('int')\n",
    "    X_train, X_test, y_train, y_test = model_selection.train_test_split(X, y, train_size=0.80, test_size=0.20, random_state=101)\n",
    "    rbf = SVC(kernel='rbf', gamma=0.5, C=0.1).fit(X_train, y_train)\n",
    "    poly = SVC(kernel='poly', degree=3, C=1).fit(X_train, y_train)\n",
    "    poly_pred = poly.predict(X_test)\n",
    "    rbf_pred = rbf.predict(X_test)\n",
    "    poly_accuracy = accuracy_score(y_test, poly_pred)\n",
    "    poly_f1 = f1_score(y_test, poly_pred, average='weighted')\n",
    "    print('Accuracy (Polynomial Kernel): ', \"%.2f\" % (poly_accuracy*100))\n",
    "    print('F1 (Polynomial Kernel): ', \"%.2f\" % (poly_f1*100))\n",
    "    rbf_accuracy = accuracy_score(y_test, rbf_pred)\n",
    "    rbf_f1 = f1_score(y_test, rbf_pred, average='weighted')\n",
    "    print('Accuracy (RBF Kernel): ', \"%.2f\" % (rbf_accuracy*100))\n",
    "    print('F1 (RBF Kernel): ', \"%.2f\" % (rbf_f1*100))"
   ]
  },
  {
   "cell_type": "code",
   "execution_count": 108,
   "id": "742fdf6f",
   "metadata": {},
   "outputs": [
    {
     "name": "stdout",
     "output_type": "stream",
     "text": [
      "Accuracy (Polynomial Kernel):  55.10\n",
      "F1 (Polynomial Kernel):  50.04\n",
      "Accuracy (RBF Kernel):  26.53\n",
      "F1 (RBF Kernel):  11.13\n"
     ]
    }
   ],
   "source": [
    "svm(df)"
   ]
  },
  {
   "cell_type": "code",
   "execution_count": null,
   "id": "10e8abd1",
   "metadata": {},
   "outputs": [],
   "source": []
  }
 ],
 "metadata": {
  "kernelspec": {
   "display_name": "Python 3",
   "language": "python",
   "name": "python3"
  },
  "language_info": {
   "codemirror_mode": {
    "name": "ipython",
    "version": 3
   },
   "file_extension": ".py",
   "mimetype": "text/x-python",
   "name": "python",
   "nbconvert_exporter": "python",
   "pygments_lexer": "ipython3",
   "version": "3.8.4"
  }
 },
 "nbformat": 4,
 "nbformat_minor": 5
}
